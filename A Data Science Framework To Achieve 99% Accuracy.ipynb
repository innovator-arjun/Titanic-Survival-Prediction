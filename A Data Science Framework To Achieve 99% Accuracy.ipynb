{
 "cells": [
  {
   "cell_type": "raw",
   "metadata": {},
   "source": [
    "Chapter 1 - How a Data Scientist Beat the Odds\n",
    "Chapter 2 - A Data Science Framework\n",
    "Chapter 3 - Step 1: Define the Problem and Step 2: Gather the Data\n",
    "Chapter 4 - Step 3: Prepare Data for Consumption\n",
    "Chapter 5 - The 4 C's of Data Cleaning: Correcting, Completing, Creating, and Converting\n",
    "Chapter 6 - Step 4: Perform Exploratory Analysis with Statistics\n",
    "Chapter 7 - Step 5: Model Data\n",
    "Chapter 8 - Evaluate Model Performance\n",
    "Chapter 9 - Tune Model with Hyper-Parameters\n",
    "Chapter 10 - Tune Model with Feature Selection\n",
    "Chapter 11 - Step 6: Validate and Implement\n",
    "Chapter 12 - Conclusion and Step 7: Optimize and Strategize\n",
    "Change Log\n",
    "Credits"
   ]
  },
  {
   "cell_type": "code",
   "execution_count": null,
   "metadata": {},
   "outputs": [],
   "source": []
  }
 ],
 "metadata": {
  "kernelspec": {
   "display_name": "Python 3",
   "language": "python",
   "name": "python3"
  },
  "language_info": {
   "codemirror_mode": {
    "name": "ipython",
    "version": 3
   },
   "file_extension": ".py",
   "mimetype": "text/x-python",
   "name": "python",
   "nbconvert_exporter": "python",
   "pygments_lexer": "ipython3",
   "version": "3.6.5"
  }
 },
 "nbformat": 4,
 "nbformat_minor": 2
}
